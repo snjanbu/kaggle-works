{
 "cells": [
  {
   "cell_type": "markdown",
   "id": "1cc84321",
   "metadata": {
    "_cell_guid": "b1076dfc-b9ad-4769-8c92-a6c4dae69d19",
    "_uuid": "8f2839f25d086af736a60e9eeb907d3b93b6e0e5",
    "papermill": {
     "duration": 0.012618,
     "end_time": "2022-03-05T16:06:58.526871",
     "exception": false,
     "start_time": "2022-03-05T16:06:58.514253",
     "status": "completed"
    },
    "tags": []
   },
   "source": [
    "## Importing required libraries"
   ]
  },
  {
   "cell_type": "code",
   "execution_count": 1,
   "id": "2c50160d",
   "metadata": {
    "execution": {
     "iopub.execute_input": "2022-03-05T16:06:58.555065Z",
     "iopub.status.busy": "2022-03-05T16:06:58.554154Z",
     "iopub.status.idle": "2022-03-05T16:06:58.563598Z",
     "shell.execute_reply": "2022-03-05T16:06:58.564038Z",
     "shell.execute_reply.started": "2022-03-05T15:22:21.840768Z"
    },
    "papermill": {
     "duration": 0.024412,
     "end_time": "2022-03-05T16:06:58.564266",
     "exception": false,
     "start_time": "2022-03-05T16:06:58.539854",
     "status": "completed"
    },
    "tags": []
   },
   "outputs": [],
   "source": [
    "import numpy as np\n",
    "import pandas as pd"
   ]
  },
  {
   "cell_type": "code",
   "execution_count": 2,
   "id": "44039cf1",
   "metadata": {
    "execution": {
     "iopub.execute_input": "2022-03-05T16:06:58.593476Z",
     "iopub.status.busy": "2022-03-05T16:06:58.592895Z",
     "iopub.status.idle": "2022-03-05T16:06:59.213832Z",
     "shell.execute_reply": "2022-03-05T16:06:59.214291Z",
     "shell.execute_reply.started": "2022-03-05T15:22:21.864966Z"
    },
    "papermill": {
     "duration": 0.638439,
     "end_time": "2022-03-05T16:06:59.214437",
     "exception": false,
     "start_time": "2022-03-05T16:06:58.575998",
     "status": "completed"
    },
    "tags": []
   },
   "outputs": [
    {
     "data": {
      "text/plain": [
       "['Archive:  fra-eng.zip',\n",
       " '  inflating: _about.txt              ',\n",
       " '  inflating: fra.txt                 ']"
      ]
     },
     "execution_count": 2,
     "metadata": {},
     "output_type": "execute_result"
    }
   ],
   "source": [
    "!!curl -O http://www.manythings.org/anki/fra-eng.zip\n",
    "!!unzip fra-eng.zip"
   ]
  },
  {
   "cell_type": "markdown",
   "id": "001bc045",
   "metadata": {
    "papermill": {
     "duration": 0.011615,
     "end_time": "2022-03-05T16:06:59.238407",
     "exception": false,
     "start_time": "2022-03-05T16:06:59.226792",
     "status": "completed"
    },
    "tags": []
   },
   "source": [
    "## Reading input data"
   ]
  },
  {
   "cell_type": "code",
   "execution_count": 3,
   "id": "5c3e6c7a",
   "metadata": {
    "execution": {
     "iopub.execute_input": "2022-03-05T16:06:59.265147Z",
     "iopub.status.busy": "2022-03-05T16:06:59.264480Z",
     "iopub.status.idle": "2022-03-05T16:07:00.081449Z",
     "shell.execute_reply": "2022-03-05T16:07:00.080817Z",
     "shell.execute_reply.started": "2022-03-05T15:22:22.557311Z"
    },
    "papermill": {
     "duration": 0.831357,
     "end_time": "2022-03-05T16:07:00.081597",
     "exception": false,
     "start_time": "2022-03-05T16:06:59.250240",
     "status": "completed"
    },
    "tags": []
   },
   "outputs": [],
   "source": [
    "input_data = pd.read_csv(\"fra.txt\", delimiter=\"\\t\", names=[\"English\", \"French\", \"Attributes\"])\n",
    "input_data['French'] = input_data['French'].apply(lambda value: f'\\t{value}\\n')"
   ]
  },
  {
   "cell_type": "markdown",
   "id": "fd610e50",
   "metadata": {
    "papermill": {
     "duration": 0.017564,
     "end_time": "2022-03-05T16:07:00.117437",
     "exception": false,
     "start_time": "2022-03-05T16:07:00.099873",
     "status": "completed"
    },
    "tags": []
   },
   "source": [
    "## Defining constants"
   ]
  },
  {
   "cell_type": "code",
   "execution_count": 4,
   "id": "c53527cf",
   "metadata": {
    "execution": {
     "iopub.execute_input": "2022-03-05T16:07:00.155919Z",
     "iopub.status.busy": "2022-03-05T16:07:00.155291Z",
     "iopub.status.idle": "2022-03-05T16:07:00.158291Z",
     "shell.execute_reply": "2022-03-05T16:07:00.158806Z",
     "shell.execute_reply.started": "2022-03-05T15:33:13.762818Z"
    },
    "papermill": {
     "duration": 0.023645,
     "end_time": "2022-03-05T16:07:00.158964",
     "exception": false,
     "start_time": "2022-03-05T16:07:00.135319",
     "status": "completed"
    },
    "tags": []
   },
   "outputs": [],
   "source": [
    "num_samples = 10000\n"
   ]
  },
  {
   "cell_type": "markdown",
   "id": "2448668c",
   "metadata": {
    "papermill": {
     "duration": 0.017546,
     "end_time": "2022-03-05T16:07:00.194289",
     "exception": false,
     "start_time": "2022-03-05T16:07:00.176743",
     "status": "completed"
    },
    "tags": []
   },
   "source": [
    "## Getting unique characters"
   ]
  },
  {
   "cell_type": "code",
   "execution_count": 5,
   "id": "6aeaa898",
   "metadata": {
    "execution": {
     "iopub.execute_input": "2022-03-05T16:07:00.232836Z",
     "iopub.status.busy": "2022-03-05T16:07:00.232221Z",
     "iopub.status.idle": "2022-03-05T16:07:00.235670Z",
     "shell.execute_reply": "2022-03-05T16:07:00.236228Z",
     "shell.execute_reply.started": "2022-03-05T15:38:16.846426Z"
    },
    "papermill": {
     "duration": 0.024285,
     "end_time": "2022-03-05T16:07:00.236369",
     "exception": false,
     "start_time": "2022-03-05T16:07:00.212084",
     "status": "completed"
    },
    "tags": []
   },
   "outputs": [],
   "source": [
    "def get_unique_characters(data):\n",
    "    unique_list = pd.unique(data[:num_samples].values.ravel())\n",
    "    all_characters = \"\".join(unique_list)\n",
    "    return sorted(list(set(all_characters))), max(unique_list, key=len)"
   ]
  },
  {
   "cell_type": "code",
   "execution_count": 6,
   "id": "b6ca1349",
   "metadata": {
    "execution": {
     "iopub.execute_input": "2022-03-05T16:07:00.274575Z",
     "iopub.status.busy": "2022-03-05T16:07:00.273967Z",
     "iopub.status.idle": "2022-03-05T16:07:00.287752Z",
     "shell.execute_reply": "2022-03-05T16:07:00.288311Z",
     "shell.execute_reply.started": "2022-03-05T15:39:54.941657Z"
    },
    "papermill": {
     "duration": 0.034336,
     "end_time": "2022-03-05T16:07:00.288460",
     "exception": false,
     "start_time": "2022-03-05T16:07:00.254124",
     "status": "completed"
    },
    "tags": []
   },
   "outputs": [],
   "source": [
    "english_characters, longest_eng_sentence = get_unique_characters(input_data['English'])\n",
    "french_characters, longest_fra_sentence = get_unique_characters(input_data['French'])"
   ]
  },
  {
   "cell_type": "code",
   "execution_count": 7,
   "id": "fbebf59b",
   "metadata": {
    "execution": {
     "iopub.execute_input": "2022-03-05T16:07:00.326473Z",
     "iopub.status.busy": "2022-03-05T16:07:00.325850Z",
     "iopub.status.idle": "2022-03-05T16:07:00.331002Z",
     "shell.execute_reply": "2022-03-05T16:07:00.330365Z",
     "shell.execute_reply.started": "2022-03-05T15:40:12.822534Z"
    },
    "papermill": {
     "duration": 0.02484,
     "end_time": "2022-03-05T16:07:00.331118",
     "exception": false,
     "start_time": "2022-03-05T16:07:00.306278",
     "status": "completed"
    },
    "tags": []
   },
   "outputs": [
    {
     "data": {
      "text/plain": [
       "(71, 92, 192341, 15, 59)"
      ]
     },
     "execution_count": 7,
     "metadata": {},
     "output_type": "execute_result"
    }
   ],
   "source": [
    "len(english_characters), len(french_characters), len(input_data), len(longest_eng_sentence), len(longest_fra_sentence)"
   ]
  },
  {
   "cell_type": "markdown",
   "id": "01fc7769",
   "metadata": {
    "papermill": {
     "duration": 0.01805,
     "end_time": "2022-03-05T16:07:00.367511",
     "exception": false,
     "start_time": "2022-03-05T16:07:00.349461",
     "status": "completed"
    },
    "tags": []
   },
   "source": [
    "## Summary\n",
    "* We are building english to french\n",
    "* English -> Encoder\n",
    "* French -> Decoder"
   ]
  },
  {
   "cell_type": "code",
   "execution_count": 8,
   "id": "3ec497a8",
   "metadata": {
    "execution": {
     "iopub.execute_input": "2022-03-05T16:07:00.411615Z",
     "iopub.status.busy": "2022-03-05T16:07:00.410854Z",
     "iopub.status.idle": "2022-03-05T16:07:00.412772Z",
     "shell.execute_reply": "2022-03-05T16:07:00.413168Z",
     "shell.execute_reply.started": "2022-03-05T15:55:57.429353Z"
    },
    "papermill": {
     "duration": 0.025488,
     "end_time": "2022-03-05T16:07:00.413330",
     "exception": false,
     "start_time": "2022-03-05T16:07:00.387842",
     "status": "completed"
    },
    "tags": []
   },
   "outputs": [],
   "source": [
    "encoder_input_data = np.zeros((num_samples, len(longest_eng_sentence), len(english_characters)), dtype='float32')\n",
    "decoder_input_data = np.zeros((num_samples, len(longest_fra_sentence), len(french_characters)), dtype='float32')\n",
    "decoder_output_data = np.zeros((num_samples, len(longest_fra_sentence), len(french_characters)), dtype='float32')"
   ]
  },
  {
   "cell_type": "code",
   "execution_count": 9,
   "id": "3ca81fed",
   "metadata": {
    "execution": {
     "iopub.execute_input": "2022-03-05T16:07:00.442253Z",
     "iopub.status.busy": "2022-03-05T16:07:00.441614Z",
     "iopub.status.idle": "2022-03-05T16:07:00.444916Z",
     "shell.execute_reply": "2022-03-05T16:07:00.444414Z",
     "shell.execute_reply.started": "2022-03-05T15:54:16.663124Z"
    },
    "papermill": {
     "duration": 0.019288,
     "end_time": "2022-03-05T16:07:00.445023",
     "exception": false,
     "start_time": "2022-03-05T16:07:00.425735",
     "status": "completed"
    },
    "tags": []
   },
   "outputs": [
    {
     "data": {
      "text/plain": [
       "(10000, 15, 71)"
      ]
     },
     "execution_count": 9,
     "metadata": {},
     "output_type": "execute_result"
    }
   ],
   "source": [
    "encoder_input_data.shape"
   ]
  },
  {
   "cell_type": "code",
   "execution_count": null,
   "id": "9b3a750e",
   "metadata": {
    "papermill": {
     "duration": 0.01193,
     "end_time": "2022-03-05T16:07:00.469223",
     "exception": false,
     "start_time": "2022-03-05T16:07:00.457293",
     "status": "completed"
    },
    "tags": []
   },
   "outputs": [],
   "source": []
  }
 ],
 "metadata": {
  "kernelspec": {
   "display_name": "Python 3",
   "language": "python",
   "name": "python3"
  },
  "language_info": {
   "codemirror_mode": {
    "name": "ipython",
    "version": 3
   },
   "file_extension": ".py",
   "mimetype": "text/x-python",
   "name": "python",
   "nbconvert_exporter": "python",
   "pygments_lexer": "ipython3",
   "version": "3.7.12"
  },
  "papermill": {
   "default_parameters": {},
   "duration": 10.667848,
   "end_time": "2022-03-05T16:07:01.092371",
   "environment_variables": {},
   "exception": null,
   "input_path": "__notebook__.ipynb",
   "output_path": "__notebook__.ipynb",
   "parameters": {},
   "start_time": "2022-03-05T16:06:50.424523",
   "version": "2.3.3"
  }
 },
 "nbformat": 4,
 "nbformat_minor": 5
}
