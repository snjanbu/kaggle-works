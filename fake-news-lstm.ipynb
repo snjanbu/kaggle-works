{
 "cells": [
  {
   "cell_type": "markdown",
   "id": "233e0d41",
   "metadata": {
    "_cell_guid": "b1076dfc-b9ad-4769-8c92-a6c4dae69d19",
    "_uuid": "8f2839f25d086af736a60e9eeb907d3b93b6e0e5",
    "papermill": {
     "duration": 0.029697,
     "end_time": "2022-03-04T08:10:55.061048",
     "exception": false,
     "start_time": "2022-03-04T08:10:55.031351",
     "status": "completed"
    },
    "tags": []
   },
   "source": [
    "## Importing required libraries"
   ]
  },
  {
   "cell_type": "code",
   "execution_count": 1,
   "id": "75062814",
   "metadata": {
    "execution": {
     "iopub.execute_input": "2022-03-04T08:10:55.123349Z",
     "iopub.status.busy": "2022-03-04T08:10:55.122190Z",
     "iopub.status.idle": "2022-03-04T08:11:02.991861Z",
     "shell.execute_reply": "2022-03-04T08:11:02.991046Z",
     "shell.execute_reply.started": "2022-03-04T06:26:44.876201Z"
    },
    "papermill": {
     "duration": 7.901238,
     "end_time": "2022-03-04T08:11:02.992042",
     "exception": false,
     "start_time": "2022-03-04T08:10:55.090804",
     "status": "completed"
    },
    "tags": []
   },
   "outputs": [],
   "source": [
    "import nltk\n",
    "import re\n",
    "import pandas as pd\n",
    "from nltk.corpus import stopwords\n",
    "from nltk.stem import PorterStemmer\n",
    "from keras.preprocessing.sequence import pad_sequences\n",
    "from keras.preprocessing.text import one_hot\n",
    "from tensorflow.keras.layers import Dense, Embedding, LSTM\n",
    "from tensorflow.keras.models import Sequential\n",
    "import numpy as np\n",
    "from sklearn.model_selection import train_test_split"
   ]
  },
  {
   "cell_type": "markdown",
   "id": "7863f8d2",
   "metadata": {
    "papermill": {
     "duration": 0.027897,
     "end_time": "2022-03-04T08:11:03.048983",
     "exception": false,
     "start_time": "2022-03-04T08:11:03.021086",
     "status": "completed"
    },
    "tags": []
   },
   "source": [
    "## Reading input files"
   ]
  },
  {
   "cell_type": "code",
   "execution_count": 2,
   "id": "3e9a9900",
   "metadata": {
    "execution": {
     "iopub.execute_input": "2022-03-04T08:11:03.112023Z",
     "iopub.status.busy": "2022-03-04T08:11:03.111347Z",
     "iopub.status.idle": "2022-03-04T08:11:05.838675Z",
     "shell.execute_reply": "2022-03-04T08:11:05.838095Z",
     "shell.execute_reply.started": "2022-03-04T06:26:52.336940Z"
    },
    "papermill": {
     "duration": 2.760709,
     "end_time": "2022-03-04T08:11:05.838830",
     "exception": false,
     "start_time": "2022-03-04T08:11:03.078121",
     "status": "completed"
    },
    "tags": []
   },
   "outputs": [],
   "source": [
    "train_data = pd.read_csv(\"../input/fake-news/train.csv\")"
   ]
  },
  {
   "cell_type": "code",
   "execution_count": 3,
   "id": "917ee8d2",
   "metadata": {
    "execution": {
     "iopub.execute_input": "2022-03-04T08:11:05.916992Z",
     "iopub.status.busy": "2022-03-04T08:11:05.916270Z",
     "iopub.status.idle": "2022-03-04T08:11:05.926987Z",
     "shell.execute_reply": "2022-03-04T08:11:05.926420Z",
     "shell.execute_reply.started": "2022-03-04T06:27:02.499387Z"
    },
    "papermill": {
     "duration": 0.059448,
     "end_time": "2022-03-04T08:11:05.927134",
     "exception": false,
     "start_time": "2022-03-04T08:11:05.867686",
     "status": "completed"
    },
    "tags": []
   },
   "outputs": [],
   "source": [
    "train_data.dropna(inplace=True)"
   ]
  },
  {
   "cell_type": "markdown",
   "id": "3add5644",
   "metadata": {
    "papermill": {
     "duration": 0.028913,
     "end_time": "2022-03-04T08:11:05.985455",
     "exception": false,
     "start_time": "2022-03-04T08:11:05.956542",
     "status": "completed"
    },
    "tags": []
   },
   "source": [
    "## Initializing objects and constants"
   ]
  },
  {
   "cell_type": "code",
   "execution_count": 4,
   "id": "b5b4f047",
   "metadata": {
    "execution": {
     "iopub.execute_input": "2022-03-04T08:11:06.049439Z",
     "iopub.status.busy": "2022-03-04T08:11:06.048400Z",
     "iopub.status.idle": "2022-03-04T08:11:06.050565Z",
     "shell.execute_reply": "2022-03-04T08:11:06.051060Z",
     "shell.execute_reply.started": "2022-03-04T06:27:04.238385Z"
    },
    "papermill": {
     "duration": 0.036891,
     "end_time": "2022-03-04T08:11:06.051226",
     "exception": false,
     "start_time": "2022-03-04T08:11:06.014335",
     "status": "completed"
    },
    "tags": []
   },
   "outputs": [],
   "source": [
    "ps = PorterStemmer()\n",
    "sentence_length = 5000\n",
    "padding_length = 1000\n",
    "dimension = 100"
   ]
  },
  {
   "cell_type": "markdown",
   "id": "f94a7848",
   "metadata": {
    "execution": {
     "iopub.execute_input": "2022-03-03T16:08:29.566404Z",
     "iopub.status.busy": "2022-03-03T16:08:29.566101Z",
     "iopub.status.idle": "2022-03-03T16:08:29.593881Z",
     "shell.execute_reply": "2022-03-03T16:08:29.593242Z",
     "shell.execute_reply.started": "2022-03-03T16:08:29.566378Z"
    },
    "papermill": {
     "duration": 0.028325,
     "end_time": "2022-03-04T08:11:06.108823",
     "exception": false,
     "start_time": "2022-03-04T08:11:06.080498",
     "status": "completed"
    },
    "tags": []
   },
   "source": [
    "## Text preprocessing"
   ]
  },
  {
   "cell_type": "code",
   "execution_count": 5,
   "id": "92f9da31",
   "metadata": {
    "execution": {
     "iopub.execute_input": "2022-03-04T08:11:06.171809Z",
     "iopub.status.busy": "2022-03-04T08:11:06.170784Z",
     "iopub.status.idle": "2022-03-04T08:11:06.174505Z",
     "shell.execute_reply": "2022-03-04T08:11:06.175084Z",
     "shell.execute_reply.started": "2022-03-04T06:27:07.720297Z"
    },
    "papermill": {
     "duration": 0.036227,
     "end_time": "2022-03-04T08:11:06.175244",
     "exception": false,
     "start_time": "2022-03-04T08:11:06.139017",
     "status": "completed"
    },
    "tags": []
   },
   "outputs": [],
   "source": [
    "def pre_process_data(data):\n",
    "    text = data['title']"
   ]
  },
  {
   "cell_type": "code",
   "execution_count": 6,
   "id": "66a7f737",
   "metadata": {
    "execution": {
     "iopub.execute_input": "2022-03-04T08:11:06.237160Z",
     "iopub.status.busy": "2022-03-04T08:11:06.236210Z",
     "iopub.status.idle": "2022-03-04T08:11:06.243686Z",
     "shell.execute_reply": "2022-03-04T08:11:06.244228Z",
     "shell.execute_reply.started": "2022-03-04T06:27:08.311322Z"
    },
    "papermill": {
     "duration": 0.039948,
     "end_time": "2022-03-04T08:11:06.244406",
     "exception": false,
     "start_time": "2022-03-04T08:11:06.204458",
     "status": "completed"
    },
    "tags": []
   },
   "outputs": [],
   "source": [
    "x = train_data['title']"
   ]
  },
  {
   "cell_type": "code",
   "execution_count": 7,
   "id": "0476cb0c",
   "metadata": {
    "execution": {
     "iopub.execute_input": "2022-03-04T08:11:06.305098Z",
     "iopub.status.busy": "2022-03-04T08:11:06.304129Z",
     "iopub.status.idle": "2022-03-04T08:14:06.475306Z",
     "shell.execute_reply": "2022-03-04T08:14:06.474609Z",
     "shell.execute_reply.started": "2022-03-04T06:27:08.966272Z"
    },
    "papermill": {
     "duration": 180.20261,
     "end_time": "2022-03-04T08:14:06.475498",
     "exception": false,
     "start_time": "2022-03-04T08:11:06.272888",
     "status": "completed"
    },
    "tags": []
   },
   "outputs": [],
   "source": [
    "x_list = list(map(lambda x: \"\". join(ps.stem(word) for word in re.sub(\"[^A-Za-z]\", \" \", x.lower()) if word not in stopwords.words(\"english\")), x.values))"
   ]
  },
  {
   "cell_type": "code",
   "execution_count": 8,
   "id": "2c68b108",
   "metadata": {
    "execution": {
     "iopub.execute_input": "2022-03-04T08:14:06.585343Z",
     "iopub.status.busy": "2022-03-04T08:14:06.543443Z",
     "iopub.status.idle": "2022-03-04T08:14:06.812133Z",
     "shell.execute_reply": "2022-03-04T08:14:06.811465Z",
     "shell.execute_reply.started": "2022-03-04T06:30:11.714843Z"
    },
    "papermill": {
     "duration": 0.306461,
     "end_time": "2022-03-04T08:14:06.812273",
     "exception": false,
     "start_time": "2022-03-04T08:14:06.505812",
     "status": "completed"
    },
    "tags": []
   },
   "outputs": [],
   "source": [
    "encoded_sentences = [one_hot(sentence, sentence_length) for sentence in x_list]"
   ]
  },
  {
   "cell_type": "code",
   "execution_count": 9,
   "id": "6d6139e9",
   "metadata": {
    "execution": {
     "iopub.execute_input": "2022-03-04T08:14:06.878311Z",
     "iopub.status.busy": "2022-03-04T08:14:06.877657Z",
     "iopub.status.idle": "2022-03-04T08:14:07.008074Z",
     "shell.execute_reply": "2022-03-04T08:14:07.007507Z",
     "shell.execute_reply.started": "2022-03-04T06:30:12.038301Z"
    },
    "papermill": {
     "duration": 0.167224,
     "end_time": "2022-03-04T08:14:07.008210",
     "exception": false,
     "start_time": "2022-03-04T08:14:06.840986",
     "status": "completed"
    },
    "tags": []
   },
   "outputs": [],
   "source": [
    "padded_sentences = pad_sequences(encoded_sentences, maxlen=padding_length, padding='pre')"
   ]
  },
  {
   "cell_type": "code",
   "execution_count": 10,
   "id": "e7454154",
   "metadata": {
    "execution": {
     "iopub.execute_input": "2022-03-04T08:14:07.070354Z",
     "iopub.status.busy": "2022-03-04T08:14:07.069717Z",
     "iopub.status.idle": "2022-03-04T08:14:07.612333Z",
     "shell.execute_reply": "2022-03-04T08:14:07.612950Z",
     "shell.execute_reply.started": "2022-03-04T06:30:12.175454Z"
    },
    "papermill": {
     "duration": 0.576537,
     "end_time": "2022-03-04T08:14:07.613162",
     "exception": false,
     "start_time": "2022-03-04T08:14:07.036625",
     "status": "completed"
    },
    "tags": []
   },
   "outputs": [
    {
     "name": "stderr",
     "output_type": "stream",
     "text": [
      "2022-03-04 08:14:07.108900: I tensorflow/core/common_runtime/process_util.cc:146] Creating new thread pool with default inter op setting: 2. Tune using inter_op_parallelism_threads for best performance.\n"
     ]
    }
   ],
   "source": [
    "model = Sequential()\n",
    "model.add(Embedding(sentence_length, dimension, input_length=padding_length))\n",
    "model.add(LSTM(500))\n",
    "model.add(Dense(1, activation='sigmoid'))"
   ]
  },
  {
   "cell_type": "code",
   "execution_count": 11,
   "id": "13b6fb0a",
   "metadata": {
    "execution": {
     "iopub.execute_input": "2022-03-04T08:14:07.675189Z",
     "iopub.status.busy": "2022-03-04T08:14:07.674548Z",
     "iopub.status.idle": "2022-03-04T08:14:07.686311Z",
     "shell.execute_reply": "2022-03-04T08:14:07.687155Z",
     "shell.execute_reply.started": "2022-03-04T06:30:12.741251Z"
    },
    "papermill": {
     "duration": 0.044582,
     "end_time": "2022-03-04T08:14:07.687379",
     "exception": false,
     "start_time": "2022-03-04T08:14:07.642797",
     "status": "completed"
    },
    "tags": []
   },
   "outputs": [],
   "source": [
    "model.compile(loss='binary_crossentropy', metrics='accuracy', optimizer='adam')"
   ]
  },
  {
   "cell_type": "code",
   "execution_count": 12,
   "id": "bfb1a310",
   "metadata": {
    "execution": {
     "iopub.execute_input": "2022-03-04T08:14:07.752410Z",
     "iopub.status.busy": "2022-03-04T08:14:07.751715Z",
     "iopub.status.idle": "2022-03-04T08:14:07.757564Z",
     "shell.execute_reply": "2022-03-04T08:14:07.758448Z",
     "shell.execute_reply.started": "2022-03-04T06:30:12.760850Z"
    },
    "papermill": {
     "duration": 0.041856,
     "end_time": "2022-03-04T08:14:07.758682",
     "exception": false,
     "start_time": "2022-03-04T08:14:07.716826",
     "status": "completed"
    },
    "tags": []
   },
   "outputs": [
    {
     "name": "stdout",
     "output_type": "stream",
     "text": [
      "Model: \"sequential\"\n",
      "_________________________________________________________________\n",
      "Layer (type)                 Output Shape              Param #   \n",
      "=================================================================\n",
      "embedding (Embedding)        (None, 1000, 100)         500000    \n",
      "_________________________________________________________________\n",
      "lstm (LSTM)                  (None, 500)               1202000   \n",
      "_________________________________________________________________\n",
      "dense (Dense)                (None, 1)                 501       \n",
      "=================================================================\n",
      "Total params: 1,702,501\n",
      "Trainable params: 1,702,501\n",
      "Non-trainable params: 0\n",
      "_________________________________________________________________\n"
     ]
    }
   ],
   "source": [
    "model.summary()"
   ]
  },
  {
   "cell_type": "code",
   "execution_count": 13,
   "id": "157f8adb",
   "metadata": {
    "execution": {
     "iopub.execute_input": "2022-03-04T08:14:07.821719Z",
     "iopub.status.busy": "2022-03-04T08:14:07.821060Z",
     "iopub.status.idle": "2022-03-04T08:14:07.861525Z",
     "shell.execute_reply": "2022-03-04T08:14:07.862021Z",
     "shell.execute_reply.started": "2022-03-04T06:30:12.773701Z"
    },
    "papermill": {
     "duration": 0.07344,
     "end_time": "2022-03-04T08:14:07.862203",
     "exception": false,
     "start_time": "2022-03-04T08:14:07.788763",
     "status": "completed"
    },
    "tags": []
   },
   "outputs": [],
   "source": [
    "x_input = np.array(padded_sentences)\n",
    "y_input = np.array(train_data['label'].values)"
   ]
  },
  {
   "cell_type": "code",
   "execution_count": 14,
   "id": "70b084f3",
   "metadata": {
    "execution": {
     "iopub.execute_input": "2022-03-04T08:14:07.924516Z",
     "iopub.status.busy": "2022-03-04T08:14:07.923827Z",
     "iopub.status.idle": "2022-03-04T08:14:07.962952Z",
     "shell.execute_reply": "2022-03-04T08:14:07.963449Z",
     "shell.execute_reply.started": "2022-03-04T06:30:46.353571Z"
    },
    "papermill": {
     "duration": 0.071778,
     "end_time": "2022-03-04T08:14:07.963627",
     "exception": false,
     "start_time": "2022-03-04T08:14:07.891849",
     "status": "completed"
    },
    "tags": []
   },
   "outputs": [],
   "source": [
    "x_train, x_test, y_train, y_test = train_test_split(x_input, y_input, test_size=0.2, random_state=1)"
   ]
  },
  {
   "cell_type": "code",
   "execution_count": 15,
   "id": "2e908040",
   "metadata": {
    "execution": {
     "iopub.execute_input": "2022-03-04T08:14:08.026808Z",
     "iopub.status.busy": "2022-03-04T08:14:08.026157Z",
     "iopub.status.idle": "2022-03-04T09:08:42.665515Z",
     "shell.execute_reply": "2022-03-04T09:08:42.664888Z",
     "shell.execute_reply.started": "2022-03-04T06:30:47.639419Z"
    },
    "papermill": {
     "duration": 3274.672465,
     "end_time": "2022-03-04T09:08:42.665690",
     "exception": false,
     "start_time": "2022-03-04T08:14:07.993225",
     "status": "completed"
    },
    "tags": []
   },
   "outputs": [
    {
     "name": "stderr",
     "output_type": "stream",
     "text": [
      "2022-03-04 08:14:08.345116: I tensorflow/compiler/mlir/mlir_graph_optimization_pass.cc:185] None of the MLIR Optimization Passes are enabled (registered 2)\n"
     ]
    },
    {
     "name": "stdout",
     "output_type": "stream",
     "text": [
      "Epoch 1/2\n",
      "229/229 [==============================] - 1642s 7s/step - loss: 0.2933 - accuracy: 0.8638 - val_loss: 0.2102 - val_accuracy: 0.9141\n",
      "Epoch 2/2\n",
      "229/229 [==============================] - 1632s 7s/step - loss: 0.1676 - accuracy: 0.9331 - val_loss: 0.1882 - val_accuracy: 0.9234\n"
     ]
    },
    {
     "data": {
      "text/plain": [
       "<keras.callbacks.History at 0x7f9a1c762f90>"
      ]
     },
     "execution_count": 15,
     "metadata": {},
     "output_type": "execute_result"
    }
   ],
   "source": [
    "model.fit(x_train, y_train, validation_data=(x_test, y_test), epochs=2, batch_size=64)"
   ]
  },
  {
   "cell_type": "code",
   "execution_count": 16,
   "id": "8a72c837",
   "metadata": {
    "execution": {
     "iopub.execute_input": "2022-03-04T09:08:43.063760Z",
     "iopub.status.busy": "2022-03-04T09:08:43.063072Z",
     "iopub.status.idle": "2022-03-04T09:08:47.905123Z",
     "shell.execute_reply": "2022-03-04T09:08:47.904584Z",
     "shell.execute_reply.started": "2022-03-04T07:32:14.176144Z"
    },
    "papermill": {
     "duration": 5.042835,
     "end_time": "2022-03-04T09:08:47.905270",
     "exception": false,
     "start_time": "2022-03-04T09:08:42.862435",
     "status": "completed"
    },
    "tags": []
   },
   "outputs": [
    {
     "name": "stderr",
     "output_type": "stream",
     "text": [
      "2022-03-04 09:08:44.998477: W tensorflow/python/util/util.cc:348] Sets are not currently considered sequences, but this may change in the future, so consider avoiding using them.\n"
     ]
    }
   ],
   "source": [
    "model.save(\"saved_model\")"
   ]
  },
  {
   "cell_type": "code",
   "execution_count": 17,
   "id": "4655dd90",
   "metadata": {
    "execution": {
     "iopub.execute_input": "2022-03-04T09:08:48.307032Z",
     "iopub.status.busy": "2022-03-04T09:08:48.306335Z",
     "iopub.status.idle": "2022-03-04T09:08:49.042412Z",
     "shell.execute_reply": "2022-03-04T09:08:49.041772Z",
     "shell.execute_reply.started": "2022-03-04T07:45:47.331718Z"
    },
    "papermill": {
     "duration": 0.937946,
     "end_time": "2022-03-04T09:08:49.042563",
     "exception": false,
     "start_time": "2022-03-04T09:08:48.104617",
     "status": "completed"
    },
    "tags": []
   },
   "outputs": [],
   "source": [
    "test_data = pd.read_csv(\"../input/fake-news/test.csv\")\n",
    "test_data.fillna(inplace=True, method='pad')"
   ]
  },
  {
   "cell_type": "code",
   "execution_count": 18,
   "id": "b2ca2e1b",
   "metadata": {
    "execution": {
     "iopub.execute_input": "2022-03-04T09:08:49.445823Z",
     "iopub.status.busy": "2022-03-04T09:08:49.444789Z",
     "iopub.status.idle": "2022-03-04T09:08:49.447344Z",
     "shell.execute_reply": "2022-03-04T09:08:49.446801Z",
     "shell.execute_reply.started": "2022-03-04T07:45:48.933464Z"
    },
    "papermill": {
     "duration": 0.20526,
     "end_time": "2022-03-04T09:08:49.447514",
     "exception": false,
     "start_time": "2022-03-04T09:08:49.242254",
     "status": "completed"
    },
    "tags": []
   },
   "outputs": [],
   "source": [
    "test_value = test_data['title']\n"
   ]
  },
  {
   "cell_type": "code",
   "execution_count": 19,
   "id": "3787c172",
   "metadata": {
    "execution": {
     "iopub.execute_input": "2022-03-04T09:08:49.849163Z",
     "iopub.status.busy": "2022-03-04T09:08:49.848116Z",
     "iopub.status.idle": "2022-03-04T09:09:39.722478Z",
     "shell.execute_reply": "2022-03-04T09:09:39.721868Z",
     "shell.execute_reply.started": "2022-03-04T07:45:50.044851Z"
    },
    "papermill": {
     "duration": 50.076921,
     "end_time": "2022-03-04T09:09:39.722631",
     "exception": false,
     "start_time": "2022-03-04T09:08:49.645710",
     "status": "completed"
    },
    "tags": []
   },
   "outputs": [],
   "source": [
    "test_list = list(map(lambda x: \"\". join(ps.stem(word) for word in re.sub(\"[^A-Za-z]\", \" \", x.lower()) if word not in stopwords.words(\"english\")), test_value.values))"
   ]
  },
  {
   "cell_type": "code",
   "execution_count": 20,
   "id": "37404cc5",
   "metadata": {
    "execution": {
     "iopub.execute_input": "2022-03-04T09:09:40.123060Z",
     "iopub.status.busy": "2022-03-04T09:09:40.122057Z",
     "iopub.status.idle": "2022-03-04T09:09:40.248128Z",
     "shell.execute_reply": "2022-03-04T09:09:40.247567Z",
     "shell.execute_reply.started": "2022-03-04T07:46:40.339848Z"
    },
    "papermill": {
     "duration": 0.329354,
     "end_time": "2022-03-04T09:09:40.248279",
     "exception": false,
     "start_time": "2022-03-04T09:09:39.918925",
     "status": "completed"
    },
    "tags": []
   },
   "outputs": [],
   "source": [
    "test_encoded_sentences = [one_hot(sentence, sentence_length) for sentence in test_list]\n",
    "test_padded_sentences = pad_sequences(test_encoded_sentences, maxlen=padding_length, padding='pre')"
   ]
  },
  {
   "cell_type": "code",
   "execution_count": 21,
   "id": "e2625b06",
   "metadata": {
    "execution": {
     "iopub.execute_input": "2022-03-04T09:09:40.649771Z",
     "iopub.status.busy": "2022-03-04T09:09:40.648788Z",
     "iopub.status.idle": "2022-03-04T09:09:40.661964Z",
     "shell.execute_reply": "2022-03-04T09:09:40.662497Z",
     "shell.execute_reply.started": "2022-03-04T07:46:40.477848Z"
    },
    "papermill": {
     "duration": 0.216268,
     "end_time": "2022-03-04T09:09:40.662668",
     "exception": false,
     "start_time": "2022-03-04T09:09:40.446400",
     "status": "completed"
    },
    "tags": []
   },
   "outputs": [],
   "source": [
    "test_input = np.array(test_padded_sentences)"
   ]
  },
  {
   "cell_type": "code",
   "execution_count": 22,
   "id": "33043106",
   "metadata": {
    "execution": {
     "iopub.execute_input": "2022-03-04T09:09:41.061386Z",
     "iopub.status.busy": "2022-03-04T09:09:41.060399Z",
     "iopub.status.idle": "2022-03-04T09:12:33.957979Z",
     "shell.execute_reply": "2022-03-04T09:12:33.957283Z",
     "shell.execute_reply.started": "2022-03-04T08:02:10.315535Z"
    },
    "papermill": {
     "duration": 173.098985,
     "end_time": "2022-03-04T09:12:33.958152",
     "exception": false,
     "start_time": "2022-03-04T09:09:40.859167",
     "status": "completed"
    },
    "tags": []
   },
   "outputs": [],
   "source": [
    "test_output = model.predict(test_input)"
   ]
  },
  {
   "cell_type": "code",
   "execution_count": 23,
   "id": "0555e199",
   "metadata": {
    "execution": {
     "iopub.execute_input": "2022-03-04T09:12:34.361424Z",
     "iopub.status.busy": "2022-03-04T09:12:34.360628Z",
     "iopub.status.idle": "2022-03-04T09:12:34.363852Z",
     "shell.execute_reply": "2022-03-04T09:12:34.364443Z",
     "shell.execute_reply.started": "2022-03-04T08:05:03.830152Z"
    },
    "papermill": {
     "duration": 0.20612,
     "end_time": "2022-03-04T09:12:34.364636",
     "exception": false,
     "start_time": "2022-03-04T09:12:34.158516",
     "status": "completed"
    },
    "tags": []
   },
   "outputs": [
    {
     "data": {
      "text/plain": [
       "5200"
      ]
     },
     "execution_count": 23,
     "metadata": {},
     "output_type": "execute_result"
    }
   ],
   "source": [
    "len(test_output)"
   ]
  },
  {
   "cell_type": "code",
   "execution_count": 24,
   "id": "518146c0",
   "metadata": {
    "execution": {
     "iopub.execute_input": "2022-03-04T09:12:34.765247Z",
     "iopub.status.busy": "2022-03-04T09:12:34.764287Z",
     "iopub.status.idle": "2022-03-04T09:12:34.770032Z",
     "shell.execute_reply": "2022-03-04T09:12:34.770577Z",
     "shell.execute_reply.started": "2022-03-04T08:08:30.352488Z"
    },
    "papermill": {
     "duration": 0.207678,
     "end_time": "2022-03-04T09:12:34.770743",
     "exception": false,
     "start_time": "2022-03-04T09:12:34.563065",
     "status": "completed"
    },
    "tags": []
   },
   "outputs": [],
   "source": [
    "submission_df = pd.DataFrame({'id': test_data['id'], 'label': (test_output.flatten().reshape(-1,) > 0.5).astype('int')})"
   ]
  },
  {
   "cell_type": "code",
   "execution_count": 25,
   "id": "1b7ab535",
   "metadata": {
    "execution": {
     "iopub.execute_input": "2022-03-04T09:12:35.170985Z",
     "iopub.status.busy": "2022-03-04T09:12:35.170000Z",
     "iopub.status.idle": "2022-03-04T09:12:35.188459Z",
     "shell.execute_reply": "2022-03-04T09:12:35.189149Z",
     "shell.execute_reply.started": "2022-03-04T08:09:24.531917Z"
    },
    "papermill": {
     "duration": 0.221796,
     "end_time": "2022-03-04T09:12:35.189388",
     "exception": false,
     "start_time": "2022-03-04T09:12:34.967592",
     "status": "completed"
    },
    "tags": []
   },
   "outputs": [],
   "source": [
    "submission_df.to_csv(\"submission.csv\", index=False)"
   ]
  },
  {
   "cell_type": "code",
   "execution_count": null,
   "id": "8fcae814",
   "metadata": {
    "papermill": {
     "duration": 0.198221,
     "end_time": "2022-03-04T09:12:35.584769",
     "exception": false,
     "start_time": "2022-03-04T09:12:35.386548",
     "status": "completed"
    },
    "tags": []
   },
   "outputs": [],
   "source": []
  }
 ],
 "metadata": {
  "kernelspec": {
   "display_name": "Python 3",
   "language": "python",
   "name": "python3"
  },
  "language_info": {
   "codemirror_mode": {
    "name": "ipython",
    "version": 3
   },
   "file_extension": ".py",
   "mimetype": "text/x-python",
   "name": "python",
   "nbconvert_exporter": "python",
   "pygments_lexer": "ipython3",
   "version": "3.7.12"
  },
  "papermill": {
   "default_parameters": {},
   "duration": 3713.910537,
   "end_time": "2022-03-04T09:12:38.697406",
   "environment_variables": {},
   "exception": null,
   "input_path": "__notebook__.ipynb",
   "output_path": "__notebook__.ipynb",
   "parameters": {},
   "start_time": "2022-03-04T08:10:44.786869",
   "version": "2.3.3"
  }
 },
 "nbformat": 4,
 "nbformat_minor": 5
}
