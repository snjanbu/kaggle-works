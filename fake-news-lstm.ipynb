{
 "cells": [
  {
   "cell_type": "markdown",
   "id": "72df175c",
   "metadata": {
    "_cell_guid": "b1076dfc-b9ad-4769-8c92-a6c4dae69d19",
    "_uuid": "8f2839f25d086af736a60e9eeb907d3b93b6e0e5",
    "papermill": {
     "duration": 0.022177,
     "end_time": "2022-03-03T17:05:31.022682",
     "exception": false,
     "start_time": "2022-03-03T17:05:31.000505",
     "status": "completed"
    },
    "tags": []
   },
   "source": [
    "## Importing required libraries"
   ]
  },
  {
   "cell_type": "code",
   "execution_count": 1,
   "id": "1a77e358",
   "metadata": {
    "execution": {
     "iopub.execute_input": "2022-03-03T17:05:31.077117Z",
     "iopub.status.busy": "2022-03-03T17:05:31.076256Z",
     "iopub.status.idle": "2022-03-03T17:05:39.313867Z",
     "shell.execute_reply": "2022-03-03T17:05:39.313102Z",
     "shell.execute_reply.started": "2022-03-03T16:55:46.317542Z"
    },
    "papermill": {
     "duration": 8.269497,
     "end_time": "2022-03-03T17:05:39.314061",
     "exception": false,
     "start_time": "2022-03-03T17:05:31.044564",
     "status": "completed"
    },
    "tags": []
   },
   "outputs": [],
   "source": [
    "import nltk\n",
    "import re\n",
    "import pandas as pd\n",
    "from nltk.corpus import stopwords\n",
    "from nltk.stem import PorterStemmer\n",
    "from keras.preprocessing.sequence import pad_sequences\n",
    "from keras.preprocessing.text import one_hot\n",
    "from tensorflow.keras.layers import Dense, Embedding, LSTM\n",
    "from tensorflow.keras.models import Sequential\n",
    "import numpy as np\n",
    "from sklearn.model_selection import train_test_split"
   ]
  },
  {
   "cell_type": "markdown",
   "id": "3a32d2ff",
   "metadata": {
    "papermill": {
     "duration": 0.019733,
     "end_time": "2022-03-03T17:05:39.355013",
     "exception": false,
     "start_time": "2022-03-03T17:05:39.335280",
     "status": "completed"
    },
    "tags": []
   },
   "source": [
    "## Reading input files"
   ]
  },
  {
   "cell_type": "code",
   "execution_count": 2,
   "id": "ebc9ab36",
   "metadata": {
    "execution": {
     "iopub.execute_input": "2022-03-03T17:05:39.401369Z",
     "iopub.status.busy": "2022-03-03T17:05:39.400731Z",
     "iopub.status.idle": "2022-03-03T17:05:42.467517Z",
     "shell.execute_reply": "2022-03-03T17:05:42.466890Z",
     "shell.execute_reply.started": "2022-03-03T16:24:39.322598Z"
    },
    "papermill": {
     "duration": 3.092048,
     "end_time": "2022-03-03T17:05:42.467682",
     "exception": false,
     "start_time": "2022-03-03T17:05:39.375634",
     "status": "completed"
    },
    "tags": []
   },
   "outputs": [],
   "source": [
    "train_data = pd.read_csv(\"../input/fake-news/train.csv\")"
   ]
  },
  {
   "cell_type": "code",
   "execution_count": 3,
   "id": "6e187520",
   "metadata": {
    "execution": {
     "iopub.execute_input": "2022-03-03T17:05:42.516454Z",
     "iopub.status.busy": "2022-03-03T17:05:42.515743Z",
     "iopub.status.idle": "2022-03-03T17:05:42.537297Z",
     "shell.execute_reply": "2022-03-03T17:05:42.537805Z",
     "shell.execute_reply.started": "2022-03-03T16:24:42.275906Z"
    },
    "papermill": {
     "duration": 0.049736,
     "end_time": "2022-03-03T17:05:42.538004",
     "exception": false,
     "start_time": "2022-03-03T17:05:42.488268",
     "status": "completed"
    },
    "tags": []
   },
   "outputs": [],
   "source": [
    "train_data.dropna(inplace=True)"
   ]
  },
  {
   "cell_type": "markdown",
   "id": "61c77ec8",
   "metadata": {
    "papermill": {
     "duration": 0.019732,
     "end_time": "2022-03-03T17:05:42.577850",
     "exception": false,
     "start_time": "2022-03-03T17:05:42.558118",
     "status": "completed"
    },
    "tags": []
   },
   "source": [
    "## Initializing objects and constants"
   ]
  },
  {
   "cell_type": "code",
   "execution_count": 4,
   "id": "e493d464",
   "metadata": {
    "execution": {
     "iopub.execute_input": "2022-03-03T17:05:42.623603Z",
     "iopub.status.busy": "2022-03-03T17:05:42.622926Z",
     "iopub.status.idle": "2022-03-03T17:05:42.625753Z",
     "shell.execute_reply": "2022-03-03T17:05:42.625244Z",
     "shell.execute_reply.started": "2022-03-03T16:50:16.994952Z"
    },
    "papermill": {
     "duration": 0.02803,
     "end_time": "2022-03-03T17:05:42.625901",
     "exception": false,
     "start_time": "2022-03-03T17:05:42.597871",
     "status": "completed"
    },
    "tags": []
   },
   "outputs": [],
   "source": [
    "ps = PorterStemmer()\n",
    "sentence_length = 5000\n",
    "padding_length = 1000\n",
    "dimension = 100"
   ]
  },
  {
   "cell_type": "markdown",
   "id": "cc94fc48",
   "metadata": {
    "execution": {
     "iopub.execute_input": "2022-03-03T16:08:29.566404Z",
     "iopub.status.busy": "2022-03-03T16:08:29.566101Z",
     "iopub.status.idle": "2022-03-03T16:08:29.593881Z",
     "shell.execute_reply": "2022-03-03T16:08:29.593242Z",
     "shell.execute_reply.started": "2022-03-03T16:08:29.566378Z"
    },
    "papermill": {
     "duration": 0.019555,
     "end_time": "2022-03-03T17:05:42.665768",
     "exception": false,
     "start_time": "2022-03-03T17:05:42.646213",
     "status": "completed"
    },
    "tags": []
   },
   "source": [
    "## Text preprocessing"
   ]
  },
  {
   "cell_type": "code",
   "execution_count": 5,
   "id": "7b3ec73d",
   "metadata": {
    "execution": {
     "iopub.execute_input": "2022-03-03T17:05:42.712287Z",
     "iopub.status.busy": "2022-03-03T17:05:42.710966Z",
     "iopub.status.idle": "2022-03-03T17:05:42.713002Z",
     "shell.execute_reply": "2022-03-03T17:05:42.713518Z",
     "shell.execute_reply.started": "2022-03-03T16:43:46.412046Z"
    },
    "papermill": {
     "duration": 0.02769,
     "end_time": "2022-03-03T17:05:42.713691",
     "exception": false,
     "start_time": "2022-03-03T17:05:42.686001",
     "status": "completed"
    },
    "tags": []
   },
   "outputs": [],
   "source": [
    "def pre_process_data(data):\n",
    "    text = data['title']"
   ]
  },
  {
   "cell_type": "code",
   "execution_count": 6,
   "id": "83212722",
   "metadata": {
    "execution": {
     "iopub.execute_input": "2022-03-03T17:05:42.763253Z",
     "iopub.status.busy": "2022-03-03T17:05:42.762254Z",
     "iopub.status.idle": "2022-03-03T17:05:42.765368Z",
     "shell.execute_reply": "2022-03-03T17:05:42.764754Z",
     "shell.execute_reply.started": "2022-03-03T16:43:46.683413Z"
    },
    "papermill": {
     "duration": 0.031791,
     "end_time": "2022-03-03T17:05:42.765522",
     "exception": false,
     "start_time": "2022-03-03T17:05:42.733731",
     "status": "completed"
    },
    "tags": []
   },
   "outputs": [],
   "source": [
    "x = train_data['title']"
   ]
  },
  {
   "cell_type": "code",
   "execution_count": 7,
   "id": "3667dbc9",
   "metadata": {
    "execution": {
     "iopub.execute_input": "2022-03-03T17:05:42.814180Z",
     "iopub.status.busy": "2022-03-03T17:05:42.813458Z",
     "iopub.status.idle": "2022-03-03T17:08:45.137951Z",
     "shell.execute_reply": "2022-03-03T17:08:45.137297Z",
     "shell.execute_reply.started": "2022-03-03T16:43:47.002309Z"
    },
    "papermill": {
     "duration": 182.352073,
     "end_time": "2022-03-03T17:08:45.138126",
     "exception": false,
     "start_time": "2022-03-03T17:05:42.786053",
     "status": "completed"
    },
    "tags": []
   },
   "outputs": [],
   "source": [
    "x_list = list(map(lambda x: \"\". join(ps.stem(word) for word in re.sub(\"[^A-Za-z]\", \" \", x.lower()) if word not in stopwords.words(\"english\")), x.values))"
   ]
  },
  {
   "cell_type": "code",
   "execution_count": 8,
   "id": "bd695062",
   "metadata": {
    "execution": {
     "iopub.execute_input": "2022-03-03T17:08:45.192972Z",
     "iopub.status.busy": "2022-03-03T17:08:45.187428Z",
     "iopub.status.idle": "2022-03-03T17:08:45.460131Z",
     "shell.execute_reply": "2022-03-03T17:08:45.459518Z",
     "shell.execute_reply.started": "2022-03-03T16:46:42.177541Z"
    },
    "papermill": {
     "duration": 0.301543,
     "end_time": "2022-03-03T17:08:45.460299",
     "exception": false,
     "start_time": "2022-03-03T17:08:45.158756",
     "status": "completed"
    },
    "tags": []
   },
   "outputs": [],
   "source": [
    "encoded_sentences = [one_hot(sentence, sentence_length) for sentence in x_list]"
   ]
  },
  {
   "cell_type": "code",
   "execution_count": 9,
   "id": "7532536c",
   "metadata": {
    "execution": {
     "iopub.execute_input": "2022-03-03T17:08:45.510152Z",
     "iopub.status.busy": "2022-03-03T17:08:45.509405Z",
     "iopub.status.idle": "2022-03-03T17:08:45.641160Z",
     "shell.execute_reply": "2022-03-03T17:08:45.640549Z",
     "shell.execute_reply.started": "2022-03-03T16:48:33.959509Z"
    },
    "papermill": {
     "duration": 0.159335,
     "end_time": "2022-03-03T17:08:45.641299",
     "exception": false,
     "start_time": "2022-03-03T17:08:45.481964",
     "status": "completed"
    },
    "tags": []
   },
   "outputs": [],
   "source": [
    "padded_sentences = pad_sequences(encoded_sentences, maxlen=padding_length, padding='pre')"
   ]
  },
  {
   "cell_type": "code",
   "execution_count": 10,
   "id": "fabe26fc",
   "metadata": {
    "execution": {
     "iopub.execute_input": "2022-03-03T17:08:45.687623Z",
     "iopub.status.busy": "2022-03-03T17:08:45.686413Z",
     "iopub.status.idle": "2022-03-03T17:08:46.272966Z",
     "shell.execute_reply": "2022-03-03T17:08:46.272351Z",
     "shell.execute_reply.started": "2022-03-03T16:51:34.971376Z"
    },
    "papermill": {
     "duration": 0.611557,
     "end_time": "2022-03-03T17:08:46.273120",
     "exception": false,
     "start_time": "2022-03-03T17:08:45.661563",
     "status": "completed"
    },
    "tags": []
   },
   "outputs": [
    {
     "name": "stderr",
     "output_type": "stream",
     "text": [
      "2022-03-03 17:08:45.726752: I tensorflow/core/common_runtime/process_util.cc:146] Creating new thread pool with default inter op setting: 2. Tune using inter_op_parallelism_threads for best performance.\n"
     ]
    }
   ],
   "source": [
    "model = Sequential()\n",
    "model.add(Embedding(sentence_length, dimension, input_length=padding_length))\n",
    "model.add(LSTM(500))\n",
    "model.add(Dense(1, activation='sigmoid'))"
   ]
  },
  {
   "cell_type": "code",
   "execution_count": 11,
   "id": "49393881",
   "metadata": {
    "execution": {
     "iopub.execute_input": "2022-03-03T17:08:46.326666Z",
     "iopub.status.busy": "2022-03-03T17:08:46.325917Z",
     "iopub.status.idle": "2022-03-03T17:08:46.333272Z",
     "shell.execute_reply": "2022-03-03T17:08:46.333915Z",
     "shell.execute_reply.started": "2022-03-03T16:57:51.365030Z"
    },
    "papermill": {
     "duration": 0.039615,
     "end_time": "2022-03-03T17:08:46.334101",
     "exception": false,
     "start_time": "2022-03-03T17:08:46.294486",
     "status": "completed"
    },
    "tags": []
   },
   "outputs": [],
   "source": [
    "model.compile(loss='binary_crossentropy', metrics='accuracy', optimizer='adam')"
   ]
  },
  {
   "cell_type": "code",
   "execution_count": 12,
   "id": "07da218b",
   "metadata": {
    "execution": {
     "iopub.execute_input": "2022-03-03T17:08:46.380088Z",
     "iopub.status.busy": "2022-03-03T17:08:46.379025Z",
     "iopub.status.idle": "2022-03-03T17:08:46.387873Z",
     "shell.execute_reply": "2022-03-03T17:08:46.388382Z",
     "shell.execute_reply.started": "2022-03-03T16:57:52.422476Z"
    },
    "papermill": {
     "duration": 0.033743,
     "end_time": "2022-03-03T17:08:46.388588",
     "exception": false,
     "start_time": "2022-03-03T17:08:46.354845",
     "status": "completed"
    },
    "tags": []
   },
   "outputs": [
    {
     "name": "stdout",
     "output_type": "stream",
     "text": [
      "Model: \"sequential\"\n",
      "_________________________________________________________________\n",
      "Layer (type)                 Output Shape              Param #   \n",
      "=================================================================\n",
      "embedding (Embedding)        (None, 1000, 100)         500000    \n",
      "_________________________________________________________________\n",
      "lstm (LSTM)                  (None, 500)               1202000   \n",
      "_________________________________________________________________\n",
      "dense (Dense)                (None, 1)                 501       \n",
      "=================================================================\n",
      "Total params: 1,702,501\n",
      "Trainable params: 1,702,501\n",
      "Non-trainable params: 0\n",
      "_________________________________________________________________\n"
     ]
    }
   ],
   "source": [
    "model.summary()"
   ]
  },
  {
   "cell_type": "code",
   "execution_count": 13,
   "id": "751f02bc",
   "metadata": {
    "execution": {
     "iopub.execute_input": "2022-03-03T17:08:46.438138Z",
     "iopub.status.busy": "2022-03-03T17:08:46.436679Z",
     "iopub.status.idle": "2022-03-03T17:08:46.476573Z",
     "shell.execute_reply": "2022-03-03T17:08:46.475969Z",
     "shell.execute_reply.started": "2022-03-03T16:57:53.441420Z"
    },
    "papermill": {
     "duration": 0.066497,
     "end_time": "2022-03-03T17:08:46.476743",
     "exception": false,
     "start_time": "2022-03-03T17:08:46.410246",
     "status": "completed"
    },
    "tags": []
   },
   "outputs": [],
   "source": [
    "x_input = np.array(padded_sentences)\n",
    "y_input = np.array(train_data['label'].values)"
   ]
  },
  {
   "cell_type": "code",
   "execution_count": 14,
   "id": "f034ad63",
   "metadata": {
    "execution": {
     "iopub.execute_input": "2022-03-03T17:08:46.527114Z",
     "iopub.status.busy": "2022-03-03T17:08:46.525684Z",
     "iopub.status.idle": "2022-03-03T17:08:46.562618Z",
     "shell.execute_reply": "2022-03-03T17:08:46.561857Z",
     "shell.execute_reply.started": "2022-03-03T16:57:54.222936Z"
    },
    "papermill": {
     "duration": 0.065203,
     "end_time": "2022-03-03T17:08:46.562787",
     "exception": false,
     "start_time": "2022-03-03T17:08:46.497584",
     "status": "completed"
    },
    "tags": []
   },
   "outputs": [],
   "source": [
    "x_train, x_test, y_train, y_test = train_test_split(x_input, y_input, test_size=0.2, random_state=1)"
   ]
  },
  {
   "cell_type": "code",
   "execution_count": 15,
   "id": "5c82582b",
   "metadata": {
    "execution": {
     "iopub.execute_input": "2022-03-03T17:08:46.610800Z",
     "iopub.status.busy": "2022-03-03T17:08:46.610126Z",
     "iopub.status.idle": "2022-03-03T18:20:26.564438Z",
     "shell.execute_reply": "2022-03-03T18:20:26.563853Z"
    },
    "papermill": {
     "duration": 4299.979994,
     "end_time": "2022-03-03T18:20:26.564590",
     "exception": false,
     "start_time": "2022-03-03T17:08:46.584596",
     "status": "completed"
    },
    "tags": []
   },
   "outputs": [
    {
     "name": "stderr",
     "output_type": "stream",
     "text": [
      "2022-03-03 17:08:46.948172: I tensorflow/compiler/mlir/mlir_graph_optimization_pass.cc:185] None of the MLIR Optimization Passes are enabled (registered 2)\n"
     ]
    },
    {
     "name": "stdout",
     "output_type": "stream",
     "text": [
      "Epoch 1/2\n",
      "458/458 [==============================] - 2131s 5s/step - loss: 0.2774 - accuracy: 0.8763 - val_loss: 0.1876 - val_accuracy: 0.9237\n",
      "Epoch 2/2\n",
      "458/458 [==============================] - 2168s 5s/step - loss: 0.3120 - accuracy: 0.8851 - val_loss: 0.2687 - val_accuracy: 0.8939\n"
     ]
    },
    {
     "data": {
      "text/plain": [
       "<keras.callbacks.History at 0x7f686dcbf690>"
      ]
     },
     "execution_count": 15,
     "metadata": {},
     "output_type": "execute_result"
    }
   ],
   "source": [
    "model.fit(x_train, y_train, validation_data=(x_test, y_test), epochs=2)"
   ]
  },
  {
   "cell_type": "code",
   "execution_count": 16,
   "id": "1ae26bbe",
   "metadata": {
    "execution": {
     "iopub.execute_input": "2022-03-03T18:20:27.294955Z",
     "iopub.status.busy": "2022-03-03T18:20:27.294101Z",
     "iopub.status.idle": "2022-03-03T18:20:27.297284Z",
     "shell.execute_reply": "2022-03-03T18:20:27.297790Z",
     "shell.execute_reply.started": "2022-03-03T16:55:22.419355Z"
    },
    "papermill": {
     "duration": 0.370125,
     "end_time": "2022-03-03T18:20:27.297958",
     "exception": false,
     "start_time": "2022-03-03T18:20:26.927833",
     "status": "completed"
    },
    "tags": []
   },
   "outputs": [
    {
     "data": {
      "text/plain": [
       "(18285, 1000)"
      ]
     },
     "execution_count": 16,
     "metadata": {},
     "output_type": "execute_result"
    }
   ],
   "source": [
    "x_input.shape"
   ]
  },
  {
   "cell_type": "code",
   "execution_count": null,
   "id": "2972ce69",
   "metadata": {
    "papermill": {
     "duration": 0.368288,
     "end_time": "2022-03-03T18:20:28.018195",
     "exception": false,
     "start_time": "2022-03-03T18:20:27.649907",
     "status": "completed"
    },
    "tags": []
   },
   "outputs": [],
   "source": []
  }
 ],
 "metadata": {
  "kernelspec": {
   "display_name": "Python 3",
   "language": "python",
   "name": "python3"
  },
  "language_info": {
   "codemirror_mode": {
    "name": "ipython",
    "version": 3
   },
   "file_extension": ".py",
   "mimetype": "text/x-python",
   "name": "python",
   "nbconvert_exporter": "python",
   "pygments_lexer": "ipython3",
   "version": "3.7.12"
  },
  "papermill": {
   "default_parameters": {},
   "duration": 4511.620492,
   "end_time": "2022-03-03T18:20:31.822005",
   "environment_variables": {},
   "exception": null,
   "input_path": "__notebook__.ipynb",
   "output_path": "__notebook__.ipynb",
   "parameters": {},
   "start_time": "2022-03-03T17:05:20.201513",
   "version": "2.3.3"
  }
 },
 "nbformat": 4,
 "nbformat_minor": 5
}
