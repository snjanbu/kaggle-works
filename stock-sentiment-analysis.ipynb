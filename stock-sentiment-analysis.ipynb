{
 "cells": [
  {
   "cell_type": "markdown",
   "id": "5a7b207a",
   "metadata": {
    "_cell_guid": "b1076dfc-b9ad-4769-8c92-a6c4dae69d19",
    "_uuid": "8f2839f25d086af736a60e9eeb907d3b93b6e0e5",
    "papermill": {
     "duration": 0.014844,
     "end_time": "2022-03-02T06:40:59.242969",
     "exception": false,
     "start_time": "2022-03-02T06:40:59.228125",
     "status": "completed"
    },
    "tags": []
   },
   "source": [
    "## Importing required libraries"
   ]
  },
  {
   "cell_type": "code",
   "execution_count": 1,
   "id": "cc8a55de",
   "metadata": {
    "execution": {
     "iopub.execute_input": "2022-03-02T06:40:59.281480Z",
     "iopub.status.busy": "2022-03-02T06:40:59.280894Z",
     "iopub.status.idle": "2022-03-02T06:41:01.045482Z",
     "shell.execute_reply": "2022-03-02T06:41:01.044482Z",
     "shell.execute_reply.started": "2022-03-02T06:38:49.922444Z"
    },
    "papermill": {
     "duration": 1.788637,
     "end_time": "2022-03-02T06:41:01.045655",
     "exception": false,
     "start_time": "2022-03-02T06:40:59.257018",
     "status": "completed"
    },
    "tags": []
   },
   "outputs": [],
   "source": [
    "import numpy as np\n",
    "import pandas as pd\n",
    "import nltk\n",
    "import re\n",
    "from nltk.corpus import stopwords\n",
    "from sklearn.feature_extraction.text import CountVectorizer, TfidfVectorizer\n",
    "from nltk.stem import PorterStemmer, WordNetLemmatizer\n",
    "from gensim.models import Word2Vec\n",
    "from sklearn.ensemble import RandomForestClassifier\n",
    "from sklearn.model_selection import GridSearchCV\n",
    "from sklearn.metrics import accuracy_score, confusion_matrix"
   ]
  },
  {
   "cell_type": "markdown",
   "id": "61ad3062",
   "metadata": {
    "papermill": {
     "duration": 0.014191,
     "end_time": "2022-03-02T06:41:01.073982",
     "exception": false,
     "start_time": "2022-03-02T06:41:01.059791",
     "status": "completed"
    },
    "tags": []
   },
   "source": [
    "## Reading the input"
   ]
  },
  {
   "cell_type": "code",
   "execution_count": 2,
   "id": "2e00f1cd",
   "metadata": {
    "execution": {
     "iopub.execute_input": "2022-03-02T06:41:01.105417Z",
     "iopub.status.busy": "2022-03-02T06:41:01.104511Z",
     "iopub.status.idle": "2022-03-02T06:41:01.412084Z",
     "shell.execute_reply": "2022-03-02T06:41:01.412592Z",
     "shell.execute_reply.started": "2022-03-02T06:29:29.291747Z"
    },
    "papermill": {
     "duration": 0.324959,
     "end_time": "2022-03-02T06:41:01.412782",
     "exception": false,
     "start_time": "2022-03-02T06:41:01.087823",
     "status": "completed"
    },
    "tags": []
   },
   "outputs": [],
   "source": [
    "stock_data = pd.read_csv(\"../input/stock-sentiment-analysis/Stock_Dataa.csv\", encoding = 'unicode_escape')"
   ]
  },
  {
   "cell_type": "markdown",
   "id": "2b68cd24",
   "metadata": {
    "papermill": {
     "duration": 0.01369,
     "end_time": "2022-03-02T06:41:01.440287",
     "exception": false,
     "start_time": "2022-03-02T06:41:01.426597",
     "status": "completed"
    },
    "tags": []
   },
   "source": [
    "### Renaming the column names"
   ]
  },
  {
   "cell_type": "code",
   "execution_count": 3,
   "id": "606a4409",
   "metadata": {
    "execution": {
     "iopub.execute_input": "2022-03-02T06:41:01.471504Z",
     "iopub.status.busy": "2022-03-02T06:41:01.470601Z",
     "iopub.status.idle": "2022-03-02T06:41:01.474927Z",
     "shell.execute_reply": "2022-03-02T06:41:01.475408Z",
     "shell.execute_reply.started": "2022-03-02T06:29:29.745539Z"
    },
    "papermill": {
     "duration": 0.021548,
     "end_time": "2022-03-02T06:41:01.475601",
     "exception": false,
     "start_time": "2022-03-02T06:41:01.454053",
     "status": "completed"
    },
    "tags": []
   },
   "outputs": [],
   "source": [
    "stock_data.columns = stock_data.columns.str.replace(\"Top\",\"\")"
   ]
  },
  {
   "cell_type": "code",
   "execution_count": 4,
   "id": "ba21dd67",
   "metadata": {
    "execution": {
     "iopub.execute_input": "2022-03-02T06:41:01.506736Z",
     "iopub.status.busy": "2022-03-02T06:41:01.505714Z",
     "iopub.status.idle": "2022-03-02T06:41:01.517459Z",
     "shell.execute_reply": "2022-03-02T06:41:01.517910Z",
     "shell.execute_reply.started": "2022-03-02T06:29:29.969537Z"
    },
    "papermill": {
     "duration": 0.02874,
     "end_time": "2022-03-02T06:41:01.518070",
     "exception": false,
     "start_time": "2022-03-02T06:41:01.489330",
     "status": "completed"
    },
    "tags": []
   },
   "outputs": [],
   "source": [
    "# Getting only features\n",
    "features = stock_data[stock_data.columns.drop(['Date', 'Label'])]"
   ]
  },
  {
   "cell_type": "markdown",
   "id": "37651d0f",
   "metadata": {
    "papermill": {
     "duration": 0.013905,
     "end_time": "2022-03-02T06:41:01.546391",
     "exception": false,
     "start_time": "2022-03-02T06:41:01.532486",
     "status": "completed"
    },
    "tags": []
   },
   "source": [
    "## Preprocessing the features"
   ]
  },
  {
   "cell_type": "code",
   "execution_count": 5,
   "id": "72add7e4",
   "metadata": {
    "execution": {
     "iopub.execute_input": "2022-03-02T06:41:01.577848Z",
     "iopub.status.busy": "2022-03-02T06:41:01.576952Z",
     "iopub.status.idle": "2022-03-02T06:41:01.579881Z",
     "shell.execute_reply": "2022-03-02T06:41:01.580271Z",
     "shell.execute_reply.started": "2022-03-02T06:29:30.392901Z"
    },
    "papermill": {
     "duration": 0.020116,
     "end_time": "2022-03-02T06:41:01.580430",
     "exception": false,
     "start_time": "2022-03-02T06:41:01.560314",
     "status": "completed"
    },
    "tags": []
   },
   "outputs": [],
   "source": [
    "lemmatizer = WordNetLemmatizer()"
   ]
  },
  {
   "cell_type": "code",
   "execution_count": 6,
   "id": "998579a9",
   "metadata": {
    "execution": {
     "iopub.execute_input": "2022-03-02T06:41:01.611900Z",
     "iopub.status.busy": "2022-03-02T06:41:01.610994Z",
     "iopub.status.idle": "2022-03-02T06:43:38.664344Z",
     "shell.execute_reply": "2022-03-02T06:43:38.664824Z",
     "shell.execute_reply.started": "2022-03-02T06:11:06.412709Z"
    },
    "papermill": {
     "duration": 157.070865,
     "end_time": "2022-03-02T06:43:38.665024",
     "exception": false,
     "start_time": "2022-03-02T06:41:01.594159",
     "status": "completed"
    },
    "tags": []
   },
   "outputs": [],
   "source": [
    "stock_data[\"combined_features\"] = features.apply(lambda x:\" \".join(x.values.astype('str')), axis=1)\n",
    "stock_data[\"combined_features\"] = stock_data[\"combined_features\"].apply(lambda x:\" \".join(lemmatizer.lemmatize(word) for word in nltk.word_tokenize(re.sub(\"[^a-zA-Z]\", \" \", x).lower()) if word not in stopwords.words(\"english\")))\n",
    "train_data = stock_data[stock_data['Date'] < '20150101']\n",
    "test_data = stock_data[stock_data['Date'] > '20141231']"
   ]
  },
  {
   "cell_type": "code",
   "execution_count": 7,
   "id": "f19195dd",
   "metadata": {
    "execution": {
     "iopub.execute_input": "2022-03-02T06:43:38.698734Z",
     "iopub.status.busy": "2022-03-02T06:43:38.697841Z",
     "iopub.status.idle": "2022-03-02T06:43:38.702544Z",
     "shell.execute_reply": "2022-03-02T06:43:38.702070Z",
     "shell.execute_reply.started": "2022-03-02T06:32:23.572223Z"
    },
    "papermill": {
     "duration": 0.02158,
     "end_time": "2022-03-02T06:43:38.702682",
     "exception": false,
     "start_time": "2022-03-02T06:43:38.681102",
     "status": "completed"
    },
    "tags": []
   },
   "outputs": [],
   "source": [
    "count_vectorizer = CountVectorizer()\n",
    "tfidf_vectorizer = TfidfVectorizer()"
   ]
  },
  {
   "cell_type": "markdown",
   "id": "9482b14d",
   "metadata": {
    "papermill": {
     "duration": 0.013998,
     "end_time": "2022-03-02T06:43:38.730550",
     "exception": false,
     "start_time": "2022-03-02T06:43:38.716552",
     "status": "completed"
    },
    "tags": []
   },
   "source": [
    "## Training the data"
   ]
  },
  {
   "cell_type": "code",
   "execution_count": 8,
   "id": "8f52b606",
   "metadata": {
    "execution": {
     "iopub.execute_input": "2022-03-02T06:43:38.761313Z",
     "iopub.status.busy": "2022-03-02T06:43:38.760752Z",
     "iopub.status.idle": "2022-03-02T06:43:39.508794Z",
     "shell.execute_reply": "2022-03-02T06:43:39.508240Z",
     "shell.execute_reply.started": "2022-03-02T06:32:34.121141Z"
    },
    "papermill": {
     "duration": 0.764715,
     "end_time": "2022-03-02T06:43:39.508946",
     "exception": false,
     "start_time": "2022-03-02T06:43:38.744231",
     "status": "completed"
    },
    "tags": []
   },
   "outputs": [],
   "source": [
    "train = tfidf_vectorizer.fit_transform(train_data[\"combined_features\"].values)"
   ]
  },
  {
   "cell_type": "code",
   "execution_count": 9,
   "id": "b91de5fb",
   "metadata": {
    "execution": {
     "iopub.execute_input": "2022-03-02T06:43:39.540627Z",
     "iopub.status.busy": "2022-03-02T06:43:39.540001Z",
     "iopub.status.idle": "2022-03-02T06:44:02.883014Z",
     "shell.execute_reply": "2022-03-02T06:44:02.882257Z",
     "shell.execute_reply.started": "2022-03-02T06:35:44.748247Z"
    },
    "papermill": {
     "duration": 23.360262,
     "end_time": "2022-03-02T06:44:02.883172",
     "exception": false,
     "start_time": "2022-03-02T06:43:39.522910",
     "status": "completed"
    },
    "tags": []
   },
   "outputs": [
    {
     "name": "stderr",
     "output_type": "stream",
     "text": [
      "/opt/conda/lib/python3.7/site-packages/sklearn/model_selection/_split.py:672: UserWarning: The least populated class in y has only 1 members, which is less than n_splits=3.\n",
      "  % (min_groups, self.n_splits)), UserWarning)\n"
     ]
    }
   ],
   "source": [
    "rfc = RandomForestClassifier()\n",
    "gv = GridSearchCV(rfc, {}, cv=3)\n",
    "gv.fit(train, list(train_data[\"Label\"].values))\n",
    "model = gv.best_estimator_\n"
   ]
  },
  {
   "cell_type": "markdown",
   "id": "e829e419",
   "metadata": {
    "papermill": {
     "duration": 0.013951,
     "end_time": "2022-03-02T06:44:02.912578",
     "exception": false,
     "start_time": "2022-03-02T06:44:02.898627",
     "status": "completed"
    },
    "tags": []
   },
   "source": [
    "## Predicting the model"
   ]
  },
  {
   "cell_type": "code",
   "execution_count": 10,
   "id": "65f78393",
   "metadata": {
    "execution": {
     "iopub.execute_input": "2022-03-02T06:44:02.944808Z",
     "iopub.status.busy": "2022-03-02T06:44:02.944219Z",
     "iopub.status.idle": "2022-03-02T06:44:03.050613Z",
     "shell.execute_reply": "2022-03-02T06:44:03.051099Z",
     "shell.execute_reply.started": "2022-03-02T06:37:26.841526Z"
    },
    "papermill": {
     "duration": 0.123499,
     "end_time": "2022-03-02T06:44:03.051281",
     "exception": false,
     "start_time": "2022-03-02T06:44:02.927782",
     "status": "completed"
    },
    "tags": []
   },
   "outputs": [],
   "source": [
    "test = tfidf_vectorizer.transform(test_data[\"combined_features\"].values)"
   ]
  },
  {
   "cell_type": "code",
   "execution_count": 11,
   "id": "fb4ae2b0",
   "metadata": {
    "execution": {
     "iopub.execute_input": "2022-03-02T06:44:03.084767Z",
     "iopub.status.busy": "2022-03-02T06:44:03.084156Z",
     "iopub.status.idle": "2022-03-02T06:44:03.170613Z",
     "shell.execute_reply": "2022-03-02T06:44:03.170072Z",
     "shell.execute_reply.started": "2022-03-02T06:38:15.686179Z"
    },
    "papermill": {
     "duration": 0.105106,
     "end_time": "2022-03-02T06:44:03.170769",
     "exception": false,
     "start_time": "2022-03-02T06:44:03.065663",
     "status": "completed"
    },
    "tags": []
   },
   "outputs": [],
   "source": [
    "y_out = model.predict(test)"
   ]
  },
  {
   "cell_type": "markdown",
   "id": "2a3993ed",
   "metadata": {
    "papermill": {
     "duration": 0.013989,
     "end_time": "2022-03-02T06:44:03.199092",
     "exception": false,
     "start_time": "2022-03-02T06:44:03.185103",
     "status": "completed"
    },
    "tags": []
   },
   "source": [
    "## Model Evaluation"
   ]
  },
  {
   "cell_type": "code",
   "execution_count": 12,
   "id": "0d19c4df",
   "metadata": {
    "execution": {
     "iopub.execute_input": "2022-03-02T06:44:03.233220Z",
     "iopub.status.busy": "2022-03-02T06:44:03.232645Z",
     "iopub.status.idle": "2022-03-02T06:44:03.245191Z",
     "shell.execute_reply": "2022-03-02T06:44:03.245649Z",
     "shell.execute_reply.started": "2022-03-02T06:39:27.057456Z"
    },
    "papermill": {
     "duration": 0.032261,
     "end_time": "2022-03-02T06:44:03.245811",
     "exception": false,
     "start_time": "2022-03-02T06:44:03.213550",
     "status": "completed"
    },
    "tags": []
   },
   "outputs": [
    {
     "data": {
      "text/plain": [
       "array([[143,  43,   0, ...,   0,   0,   0],\n",
       "       [ 12, 180,   0, ...,   0,   0,   0],\n",
       "       [  1,   0,   0, ...,   0,   0,   0],\n",
       "       ...,\n",
       "       [  0,   1,   0, ...,   0,   0,   0],\n",
       "       [  1,   0,   0, ...,   0,   0,   0],\n",
       "       [  0,   0,   0, ...,   0,   0,  43]])"
      ]
     },
     "execution_count": 12,
     "metadata": {},
     "output_type": "execute_result"
    }
   ],
   "source": [
    "confusion_matrix(list(test_data[\"Label\"].values), y_out)"
   ]
  },
  {
   "cell_type": "code",
   "execution_count": 13,
   "id": "c33c8a1c",
   "metadata": {
    "execution": {
     "iopub.execute_input": "2022-03-02T06:44:03.278009Z",
     "iopub.status.busy": "2022-03-02T06:44:03.277424Z",
     "iopub.status.idle": "2022-03-02T06:44:03.286055Z",
     "shell.execute_reply": "2022-03-02T06:44:03.286506Z",
     "shell.execute_reply.started": "2022-03-02T06:40:27.725910Z"
    },
    "papermill": {
     "duration": 0.026242,
     "end_time": "2022-03-02T06:44:03.286672",
     "exception": false,
     "start_time": "2022-03-02T06:44:03.260430",
     "status": "completed"
    },
    "tags": []
   },
   "outputs": [
    {
     "data": {
      "text/plain": [
       "74.54175152749491"
      ]
     },
     "execution_count": 13,
     "metadata": {},
     "output_type": "execute_result"
    }
   ],
   "source": [
    "accuracy_score(list(test_data[\"Label\"].values), y_out) * 100"
   ]
  },
  {
   "cell_type": "code",
   "execution_count": null,
   "id": "3c8f0ad7",
   "metadata": {
    "papermill": {
     "duration": 0.014704,
     "end_time": "2022-03-02T06:44:03.316402",
     "exception": false,
     "start_time": "2022-03-02T06:44:03.301698",
     "status": "completed"
    },
    "tags": []
   },
   "outputs": [],
   "source": []
  }
 ],
 "metadata": {
  "kernelspec": {
   "display_name": "Python 3",
   "language": "python",
   "name": "python3"
  },
  "language_info": {
   "codemirror_mode": {
    "name": "ipython",
    "version": 3
   },
   "file_extension": ".py",
   "mimetype": "text/x-python",
   "name": "python",
   "nbconvert_exporter": "python",
   "pygments_lexer": "ipython3",
   "version": "3.7.12"
  },
  "papermill": {
   "default_parameters": {},
   "duration": 193.218241,
   "end_time": "2022-03-02T06:44:04.242380",
   "environment_variables": {},
   "exception": null,
   "input_path": "__notebook__.ipynb",
   "output_path": "__notebook__.ipynb",
   "parameters": {},
   "start_time": "2022-03-02T06:40:51.024139",
   "version": "2.3.3"
  }
 },
 "nbformat": 4,
 "nbformat_minor": 5
}
