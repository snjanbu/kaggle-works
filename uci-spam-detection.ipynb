{
 "cells": [
  {
   "cell_type": "markdown",
   "id": "7df7dab8",
   "metadata": {
    "_cell_guid": "b1076dfc-b9ad-4769-8c92-a6c4dae69d19",
    "_uuid": "8f2839f25d086af736a60e9eeb907d3b93b6e0e5",
    "papermill": {
     "duration": 0.018741,
     "end_time": "2022-02-25T09:27:45.530213",
     "exception": false,
     "start_time": "2022-02-25T09:27:45.511472",
     "status": "completed"
    },
    "tags": []
   },
   "source": [
    "## Importing required libraries"
   ]
  },
  {
   "cell_type": "code",
   "execution_count": 1,
   "id": "15cea6dc",
   "metadata": {
    "execution": {
     "iopub.execute_input": "2022-02-25T09:27:45.580723Z",
     "iopub.status.busy": "2022-02-25T09:27:45.579965Z",
     "iopub.status.idle": "2022-02-25T09:27:47.554655Z",
     "shell.execute_reply": "2022-02-25T09:27:47.555312Z",
     "shell.execute_reply.started": "2022-02-25T09:23:30.799096Z"
    },
    "papermill": {
     "duration": 2.007552,
     "end_time": "2022-02-25T09:27:47.555601",
     "exception": false,
     "start_time": "2022-02-25T09:27:45.548049",
     "status": "completed"
    },
    "tags": []
   },
   "outputs": [],
   "source": [
    "import nltk\n",
    "from nltk.stem.porter import PorterStemmer\n",
    "from nltk.stem import WordNetLemmatizer\n",
    "from nltk.corpus import stopwords\n",
    "from sklearn.feature_extraction.text import CountVectorizer, TfidfVectorizer\n",
    "import re\n",
    "import pandas as pd\n",
    "from sklearn.model_selection import train_test_split, GridSearchCV\n",
    "from sklearn.naive_bayes import MultinomialNB\n",
    "from sklearn.metrics import confusion_matrix, accuracy_score\n",
    "import seaborn as sns"
   ]
  },
  {
   "cell_type": "markdown",
   "id": "952049b4",
   "metadata": {
    "papermill": {
     "duration": 0.01736,
     "end_time": "2022-02-25T09:27:47.591586",
     "exception": false,
     "start_time": "2022-02-25T09:27:47.574226",
     "status": "completed"
    },
    "tags": []
   },
   "source": [
    "## Reading and preprocesing the data"
   ]
  },
  {
   "cell_type": "code",
   "execution_count": 2,
   "id": "b3bdefe4",
   "metadata": {
    "execution": {
     "iopub.execute_input": "2022-02-25T09:27:47.628964Z",
     "iopub.status.busy": "2022-02-25T09:27:47.628243Z",
     "iopub.status.idle": "2022-02-25T09:27:47.663268Z",
     "shell.execute_reply": "2022-02-25T09:27:47.663945Z",
     "shell.execute_reply.started": "2022-02-25T08:30:58.020152Z"
    },
    "papermill": {
     "duration": 0.055644,
     "end_time": "2022-02-25T09:27:47.664142",
     "exception": false,
     "start_time": "2022-02-25T09:27:47.608498",
     "status": "completed"
    },
    "tags": []
   },
   "outputs": [],
   "source": [
    "input_data = pd.read_csv(\"../input/uci-sms-spam-collection-data-set/SMSSpamCollection\", delimiter=\"\\t\", names=['label', 'message'])"
   ]
  },
  {
   "cell_type": "code",
   "execution_count": 3,
   "id": "ab383053",
   "metadata": {
    "execution": {
     "iopub.execute_input": "2022-02-25T09:27:47.702357Z",
     "iopub.status.busy": "2022-02-25T09:27:47.701672Z",
     "iopub.status.idle": "2022-02-25T09:27:47.717192Z",
     "shell.execute_reply": "2022-02-25T09:27:47.716605Z",
     "shell.execute_reply.started": "2022-02-25T09:02:15.743926Z"
    },
    "papermill": {
     "duration": 0.035935,
     "end_time": "2022-02-25T09:27:47.717356",
     "exception": false,
     "start_time": "2022-02-25T09:27:47.681421",
     "status": "completed"
    },
    "tags": []
   },
   "outputs": [],
   "source": [
    "input_data[\"label\"].replace({\"spam\":0, \"ham\":1}, inplace=True)\n",
    "message_list = input_data['message'].values\n",
    "labels = input_data['label'].values\n",
    "corpus = []\n",
    "stemmer = PorterStemmer()\n",
    "lemmatizer = WordNetLemmatizer()"
   ]
  },
  {
   "cell_type": "code",
   "execution_count": 4,
   "id": "bbdf69fd",
   "metadata": {
    "execution": {
     "iopub.execute_input": "2022-02-25T09:27:47.754394Z",
     "iopub.status.busy": "2022-02-25T09:27:47.753714Z",
     "iopub.status.idle": "2022-02-25T09:28:01.161411Z",
     "shell.execute_reply": "2022-02-25T09:28:01.161957Z",
     "shell.execute_reply.started": "2022-02-25T09:02:17.286055Z"
    },
    "papermill": {
     "duration": 13.427955,
     "end_time": "2022-02-25T09:28:01.162154",
     "exception": false,
     "start_time": "2022-02-25T09:27:47.734199",
     "status": "completed"
    },
    "tags": []
   },
   "outputs": [],
   "source": [
    "for message in message_list:\n",
    "    transformed_message = re.sub(\"[^A-Za-z ]\", \"\", message).lower()\n",
    "    transformed_message = \" \".join([lemmatizer.lemmatize(word) for word in transformed_message.split() if word not in stopwords.words(\"english\")])\n",
    "    corpus.append(transformed_message)"
   ]
  },
  {
   "cell_type": "markdown",
   "id": "57928123",
   "metadata": {
    "papermill": {
     "duration": 0.016991,
     "end_time": "2022-02-25T09:28:01.197078",
     "exception": false,
     "start_time": "2022-02-25T09:28:01.180087",
     "status": "completed"
    },
    "tags": []
   },
   "source": [
    "## TF IDF Vectorization"
   ]
  },
  {
   "cell_type": "code",
   "execution_count": 5,
   "id": "e09c6616",
   "metadata": {
    "execution": {
     "iopub.execute_input": "2022-02-25T09:28:01.235322Z",
     "iopub.status.busy": "2022-02-25T09:28:01.234491Z",
     "iopub.status.idle": "2022-02-25T09:28:01.522041Z",
     "shell.execute_reply": "2022-02-25T09:28:01.522552Z",
     "shell.execute_reply.started": "2022-02-25T09:20:56.174621Z"
    },
    "papermill": {
     "duration": 0.308174,
     "end_time": "2022-02-25T09:28:01.522737",
     "exception": false,
     "start_time": "2022-02-25T09:28:01.214563",
     "status": "completed"
    },
    "tags": []
   },
   "outputs": [],
   "source": [
    "tf_idf_vectorizer = TfidfVectorizer()\n",
    "train_data = tf_idf_vectorizer.fit_transform(corpus).toarray()"
   ]
  },
  {
   "cell_type": "code",
   "execution_count": 6,
   "id": "298eda6a",
   "metadata": {
    "execution": {
     "iopub.execute_input": "2022-02-25T09:28:01.559746Z",
     "iopub.status.busy": "2022-02-25T09:28:01.558768Z",
     "iopub.status.idle": "2022-02-25T09:28:01.567635Z",
     "shell.execute_reply": "2022-02-25T09:28:01.568136Z",
     "shell.execute_reply.started": "2022-02-25T09:21:10.333263Z"
    },
    "papermill": {
     "duration": 0.028809,
     "end_time": "2022-02-25T09:28:01.568302",
     "exception": false,
     "start_time": "2022-02-25T09:28:01.539493",
     "status": "completed"
    },
    "tags": []
   },
   "outputs": [
    {
     "data": {
      "text/plain": [
       "array([[0., 0., 0., ..., 0., 0., 0.],\n",
       "       [0., 0., 0., ..., 0., 0., 0.],\n",
       "       [0., 0., 0., ..., 0., 0., 0.],\n",
       "       ...,\n",
       "       [0., 0., 0., ..., 0., 0., 0.],\n",
       "       [0., 0., 0., ..., 0., 0., 0.],\n",
       "       [0., 0., 0., ..., 0., 0., 0.]])"
      ]
     },
     "execution_count": 6,
     "metadata": {},
     "output_type": "execute_result"
    }
   ],
   "source": [
    "train_data"
   ]
  },
  {
   "cell_type": "markdown",
   "id": "42d3415a",
   "metadata": {
    "execution": {
     "iopub.execute_input": "2022-02-25T09:02:32.904413Z",
     "iopub.status.busy": "2022-02-25T09:02:32.904140Z",
     "iopub.status.idle": "2022-02-25T09:02:32.909796Z",
     "shell.execute_reply": "2022-02-25T09:02:32.909011Z",
     "shell.execute_reply.started": "2022-02-25T09:02:32.904384Z"
    },
    "papermill": {
     "duration": 0.017012,
     "end_time": "2022-02-25T09:28:01.602709",
     "exception": false,
     "start_time": "2022-02-25T09:28:01.585697",
     "status": "completed"
    },
    "tags": []
   },
   "source": [
    "## Model building and evaluation"
   ]
  },
  {
   "cell_type": "code",
   "execution_count": 7,
   "id": "1ac65803",
   "metadata": {
    "execution": {
     "iopub.execute_input": "2022-02-25T09:28:01.640781Z",
     "iopub.status.busy": "2022-02-25T09:28:01.639776Z",
     "iopub.status.idle": "2022-02-25T09:28:01.856310Z",
     "shell.execute_reply": "2022-02-25T09:28:01.856828Z",
     "shell.execute_reply.started": "2022-02-25T09:21:00.976826Z"
    },
    "papermill": {
     "duration": 0.237301,
     "end_time": "2022-02-25T09:28:01.857029",
     "exception": false,
     "start_time": "2022-02-25T09:28:01.619728",
     "status": "completed"
    },
    "tags": []
   },
   "outputs": [],
   "source": [
    "x_train, x_test, y_train, y_test = train_test_split(train_data, labels, test_size=0.2, random_state=1)"
   ]
  },
  {
   "cell_type": "code",
   "execution_count": 8,
   "id": "55cf0956",
   "metadata": {
    "execution": {
     "iopub.execute_input": "2022-02-25T09:28:01.895627Z",
     "iopub.status.busy": "2022-02-25T09:28:01.894586Z",
     "iopub.status.idle": "2022-02-25T09:28:01.898352Z",
     "shell.execute_reply": "2022-02-25T09:28:01.898829Z",
     "shell.execute_reply.started": "2022-02-25T09:21:02.493889Z"
    },
    "papermill": {
     "duration": 0.024769,
     "end_time": "2022-02-25T09:28:01.899008",
     "exception": false,
     "start_time": "2022-02-25T09:28:01.874239",
     "status": "completed"
    },
    "tags": []
   },
   "outputs": [],
   "source": [
    "mb_classifier = MultinomialNB()"
   ]
  },
  {
   "cell_type": "code",
   "execution_count": 9,
   "id": "f14cc9d8",
   "metadata": {
    "execution": {
     "iopub.execute_input": "2022-02-25T09:28:01.938640Z",
     "iopub.status.busy": "2022-02-25T09:28:01.937620Z",
     "iopub.status.idle": "2022-02-25T09:28:03.256287Z",
     "shell.execute_reply": "2022-02-25T09:28:03.257220Z",
     "shell.execute_reply.started": "2022-02-25T09:22:32.549859Z"
    },
    "papermill": {
     "duration": 1.341212,
     "end_time": "2022-02-25T09:28:03.257525",
     "exception": false,
     "start_time": "2022-02-25T09:28:01.916313",
     "status": "completed"
    },
    "tags": []
   },
   "outputs": [],
   "source": [
    "cv = GridSearchCV(mb_classifier, {})\n",
    "train_model = cv.fit(x_train, y_train)\n",
    "best_model = train_model.best_estimator_\n",
    "y_predict = best_model.predict(x_test)"
   ]
  },
  {
   "cell_type": "markdown",
   "id": "922b0a3f",
   "metadata": {
    "papermill": {
     "duration": 0.031705,
     "end_time": "2022-02-25T09:28:03.324595",
     "exception": false,
     "start_time": "2022-02-25T09:28:03.292890",
     "status": "completed"
    },
    "tags": []
   },
   "source": [
    "## Model Evaluation"
   ]
  },
  {
   "cell_type": "code",
   "execution_count": 10,
   "id": "3516a122",
   "metadata": {
    "execution": {
     "iopub.execute_input": "2022-02-25T09:28:03.387744Z",
     "iopub.status.busy": "2022-02-25T09:28:03.386687Z",
     "iopub.status.idle": "2022-02-25T09:28:03.394165Z",
     "shell.execute_reply": "2022-02-25T09:28:03.394643Z",
     "shell.execute_reply.started": "2022-02-25T09:26:51.619571Z"
    },
    "papermill": {
     "duration": 0.036461,
     "end_time": "2022-02-25T09:28:03.394850",
     "exception": false,
     "start_time": "2022-02-25T09:28:03.358389",
     "status": "completed"
    },
    "tags": []
   },
   "outputs": [
    {
     "data": {
      "text/plain": [
       "array([[112,  35],\n",
       "       [  0, 968]])"
      ]
     },
     "execution_count": 10,
     "metadata": {},
     "output_type": "execute_result"
    }
   ],
   "source": [
    "confusion_matrix(y_test, y_predict)"
   ]
  },
  {
   "cell_type": "code",
   "execution_count": 11,
   "id": "3aeae16d",
   "metadata": {
    "execution": {
     "iopub.execute_input": "2022-02-25T09:28:03.435379Z",
     "iopub.status.busy": "2022-02-25T09:28:03.434640Z",
     "iopub.status.idle": "2022-02-25T09:28:03.727244Z",
     "shell.execute_reply": "2022-02-25T09:28:03.726680Z",
     "shell.execute_reply.started": "2022-02-25T09:26:23.836739Z"
    },
    "papermill": {
     "duration": 0.313363,
     "end_time": "2022-02-25T09:28:03.727379",
     "exception": false,
     "start_time": "2022-02-25T09:28:03.414016",
     "status": "completed"
    },
    "tags": []
   },
   "outputs": [
    {
     "data": {
      "text/plain": [
       "<AxesSubplot:>"
      ]
     },
     "execution_count": 11,
     "metadata": {},
     "output_type": "execute_result"
    },
    {
     "data": {
      "image/png": "[encoded data removed]",
      "text/plain": [
       "<Figure size 432x288 with 2 Axes>"
      ]
     },
     "metadata": {
      "needs_background": "light"
     },
     "output_type": "display_data"
    }
   ],
   "source": [
    "sns.heatmap(confusion_matrix(y_test, y_predict), annot=True, cmap=\"Blues\")"
   ]
  },
  {
   "cell_type": "code",
   "execution_count": 12,
   "id": "27b50842",
   "metadata": {
    "execution": {
     "iopub.execute_input": "2022-02-25T09:28:03.777732Z",
     "iopub.status.busy": "2022-02-25T09:28:03.776913Z",
     "iopub.status.idle": "2022-02-25T09:28:03.782657Z",
     "shell.execute_reply": "2022-02-25T09:28:03.783275Z",
     "shell.execute_reply.started": "2022-02-25T09:23:10.274060Z"
    },
    "papermill": {
     "duration": 0.032925,
     "end_time": "2022-02-25T09:28:03.783461",
     "exception": false,
     "start_time": "2022-02-25T09:28:03.750536",
     "status": "completed"
    },
    "tags": []
   },
   "outputs": [
    {
     "data": {
      "text/plain": [
       "0.968609865470852"
      ]
     },
     "execution_count": 12,
     "metadata": {},
     "output_type": "execute_result"
    }
   ],
   "source": [
    "accuracy_score(y_test, y_predict)"
   ]
  },
  {
   "cell_type": "code",
   "execution_count": null,
   "id": "5e4b8e82",
   "metadata": {
    "papermill": {
     "duration": 0.022017,
     "end_time": "2022-02-25T09:28:03.827965",
     "exception": false,
     "start_time": "2022-02-25T09:28:03.805948",
     "status": "completed"
    },
    "tags": []
   },
   "outputs": [],
   "source": []
  }
 ],
 "metadata": {
  "kernelspec": {
   "display_name": "Python 3",
   "language": "python",
   "name": "python3"
  },
  "language_info": {
   "codemirror_mode": {
    "name": "ipython",
    "version": 3
   },
   "file_extension": ".py",
   "mimetype": "text/x-python",
   "name": "python",
   "nbconvert_exporter": "python",
   "pygments_lexer": "ipython3",
   "version": "3.7.12"
  },
  "papermill": {
   "default_parameters": {},
   "duration": 30.064272,
   "end_time": "2022-02-25T09:28:04.968954",
   "environment_variables": {},
   "exception": null,
   "input_path": "__notebook__.ipynb",
   "output_path": "__notebook__.ipynb",
   "parameters": {},
   "start_time": "2022-02-25T09:27:34.904682",
   "version": "2.3.3"
  }
 },
 "nbformat": 4,
 "nbformat_minor": 5
}
